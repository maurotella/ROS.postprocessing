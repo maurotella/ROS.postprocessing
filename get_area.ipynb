{
 "cells": [
  {
   "cell_type": "code",
   "execution_count": 1,
   "metadata": {},
   "outputs": [],
   "source": [
    "import pandas as pd\n",
    "import numpy as np\n",
    "import stats\n",
    "\n",
    "path = 'C:\\\\Users\\\\mauro\\\\Documents\\\\data_test.db'\n",
    "path = '/home/aislab/Desktop/data_test.db'"
   ]
  },
  {
   "cell_type": "code",
   "execution_count": 2,
   "metadata": {},
   "outputs": [],
   "source": [
    "def print_sheets(listed):\n",
    "    for k in listed:\n",
    "        print(k)\n",
    "        for ex in listed[k]:\n",
    "            if ex: print(f\"{str(round(ex,2)).replace('.',',')}\")\n",
    "            else:  print(ex)"
   ]
  },
  {
   "cell_type": "code",
   "execution_count": 3,
   "metadata": {},
   "outputs": [],
   "source": [
    "TS_office2_3 = stats.TestSet(\n",
    "    path,\n",
    "    {'my': [299,169,170,171,172,301,303,302,300,304],\n",
    "     'el': [173,174,175,176,177,178,179,180,216,217]},\n",
    "    'office_2'\n",
    ")\n",
    "TS_office2_5 = stats.TestSet(\n",
    "    path,\n",
    "    {'my': [128,129,161,163,164,165,240,241,243,305],\n",
    "     'el': [132,133,134,140,227,137,144,289,293,291]},\n",
    "    'office_2'\n",
    ")\n",
    "TS_office2_8 = stats.TestSet(\n",
    "    path,\n",
    "    {'my': [120,121,122,125,124,123,250,246,247,306],\n",
    "     'el': [114,115,116,118,119,251,294,295,296,308]},\n",
    "    'office_2'\n",
    ")\n",
    "TS_bigoffice_3 = stats.TestSet(\n",
    "    path,\n",
    "    {'my': [107,106,104,185,186,187,190,191,275,276],\n",
    "     'el': [197,199,72,404,198,195,192,193,194,198]},\n",
    "     'office_big'\n",
    ")\n",
    "TS_bigoffice_5 = stats.TestSet(\n",
    "    path,\n",
    "    {'my': [399,39,81,402,99,101,207,209,211,210],\n",
    "     'el': [24,22,29,31,30,32,202,277,278,279]},\n",
    "    'office_big'\n",
    ")\n",
    "TS_bigoffice_8 = stats.TestSet(\n",
    "    path,\n",
    "    {'my': [20,43,60,65,91,93,94,95,97,288],\n",
    "     'el': [46,51,52,54,69,280,285,282,345,350]},\n",
    "    'office_big'\n",
    ")\n",
    "TS_map23_3 = stats.TestSet(\n",
    "    path,\n",
    "    {'my': [212,213,214,158,157,159,334,354,348,344],\n",
    "     'el': [145,215,324,326,327,330,331,338,340,349]},\n",
    "    'map23'\n",
    ")\n",
    "TS_E13_3 = stats.TestSet(\n",
    "    path,\n",
    "    {'my': [359,440,363,441,445,446,448,382,375,383],\n",
    "     'el': [407,357,358,361,362,365,366,367,368,406]},\n",
    "    'e13'\n",
    ")\n",
    "TS_E40_3 = stats.TestSet(\n",
    "    path,\n",
    "    {'my': [419,422,426,429,432,436,438,472,475,480],\n",
    "     'el': [389,391,415,444,452,453,462,464,465,466]},\n",
    "    'e40'\n",
    ")"
   ]
  },
  {
   "cell_type": "code",
   "execution_count": 8,
   "metadata": {},
   "outputs": [
    {
     "name": "stdout",
     "output_type": "stream",
     "text": [
      "my\n",
      "0,87\n",
      "0,82\n",
      "0,93\n",
      "0,74\n",
      "0,78\n",
      "0,69\n",
      "0,68\n",
      "0,9\n",
      "0,64\n",
      "0,67\n",
      "el\n",
      "0,48\n",
      "0,64\n",
      "0,9\n",
      "0,97\n",
      "0,64\n",
      "0,98\n",
      "0,94\n",
      "0,65\n",
      "0,98\n",
      "0,95\n"
     ]
    }
   ],
   "source": [
    "print_sheets(TS_E13_3.get_perc_areas())"
   ]
  },
  {
   "cell_type": "code",
   "execution_count": 12,
   "metadata": {},
   "outputs": [
    {
     "data": {
      "text/plain": [
       "{'my': 0.95, 'el': 0.97}"
      ]
     },
     "execution_count": 12,
     "metadata": {},
     "output_type": "execute_result"
    }
   ],
   "source": [
    "TS_office2_8.get_perc_areas_stats(lambda x: round(np.mean(x),2))"
   ]
  },
  {
   "cell_type": "code",
   "execution_count": 11,
   "metadata": {},
   "outputs": [
    {
     "data": {
      "text/plain": [
       "{'my': 0.1, 'el': 0.18}"
      ]
     },
     "execution_count": 11,
     "metadata": {},
     "output_type": "execute_result"
    }
   ],
   "source": [
    "TS_E13_3.get_perc_areas_stats(lambda x: round(np.std(x),2))"
   ]
  }
 ],
 "metadata": {
  "kernelspec": {
   "display_name": "Python 3",
   "language": "python",
   "name": "python3"
  },
  "language_info": {
   "codemirror_mode": {
    "name": "ipython",
    "version": 3
   },
   "file_extension": ".py",
   "mimetype": "text/x-python",
   "name": "python",
   "nbconvert_exporter": "python",
   "pygments_lexer": "ipython3",
   "version": "3.8.10"
  }
 },
 "nbformat": 4,
 "nbformat_minor": 2
}
